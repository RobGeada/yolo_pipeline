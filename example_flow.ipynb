{
 "cells": [
  {
   "cell_type": "code",
   "execution_count": null,
   "id": "2c3861e8",
   "metadata": {},
   "outputs": [],
   "source": [
    "import collections\n",
    "import matplotlib.pyplot as plt\n",
    "from PIL import Image\n",
    "import numpy as np\n",
    "import requests\n",
    "import torch\n",
    "\n",
    "import preprocess\n",
    "import postprocess\n",
    "\n",
    "plt.style.use('https://raw.githubusercontent.com/RobGeada/stylelibs/main/material.mplstyle')\n",
    "\n",
    "%load_ext autoreload\n",
    "%autoreload 2"
   ]
  },
  {
   "cell_type": "markdown",
   "id": "eaf199ea",
   "metadata": {},
   "source": [
    "# Arguments"
   ]
  },
  {
   "cell_type": "code",
   "execution_count": null,
   "id": "295a6bc5",
   "metadata": {},
   "outputs": [],
   "source": [
    "coco_path = \"/home/coco/\" # if running in a docker image, this should be \"/home/coco/\"\n",
    "image_path = coco_path+\"000000339995.jpg\"\n",
    "model_url = \"example.com\" # put ODH model url here"
   ]
  },
  {
   "cell_type": "markdown",
   "id": "c3cc2fc0",
   "metadata": {},
   "source": [
    "# Preprocess\n",
    "1) Load image from file\n",
    "2) Pad it to square \n",
    "3) Convert into the kserve payload schema"
   ]
  },
  {
   "cell_type": "code",
   "execution_count": null,
   "id": "9fafbb79",
   "metadata": {},
   "outputs": [],
   "source": [
    "im = Image.open(image_path)\n",
    "torch_im = torch.tensor(preprocess.get_as_numpy(im))\n",
    "request_body = preprocess.create_kserve_payload(im)"
   ]
  },
  {
   "cell_type": "markdown",
   "id": "bb880017",
   "metadata": {},
   "source": [
    "# Send To Model\n",
    "(this can take a while)"
   ]
  },
  {
   "cell_type": "code",
   "execution_count": null,
   "id": "24d8a710",
   "metadata": {},
   "outputs": [],
   "source": [
    "response = requests.post(model_url+\"/infer\", json=request_body).json()"
   ]
  },
  {
   "cell_type": "markdown",
   "id": "156e5d8a",
   "metadata": {},
   "source": [
    "# Postprocess"
   ]
  },
  {
   "cell_type": "code",
   "execution_count": null,
   "id": "f50e8669",
   "metadata": {},
   "outputs": [],
   "source": [
    "# Process response to PyTorch tensors\n",
    "pred_dict, proto_dict = response[\"outputs\"]\n",
    "pred = torch.tensor(pred_dict['data']).reshape(pred_dict['shape'])\n",
    "proto = torch.tensor(proto_dict['data']).reshape(proto_dict['shape'])\n",
    "\n",
    "# Set up mask generator\n",
    "args = {\"conf\":.25, \"iou\":.45, \"agnostic_nms\": False, \"max_det\":1000}\n",
    "segPredictor = postprocess.SegmentationPredictor(overrides=args)\n",
    "\n",
    "# Put class names into mask generator\n",
    "ModelSubstitute = collections.namedtuple(\"ModelSubstitute\", [\"names\"])\n",
    "segPredictor.model = ModelSubstitute(names=postprocess.names)\n",
    "segPredictor.batch = [[\".\"]]\n",
    "\n",
    "# generate masks\n",
    "results = segPredictor.postprocess([pred, proto], torch_im, torch_im)"
   ]
  },
  {
   "cell_type": "markdown",
   "id": "798ab8e2",
   "metadata": {},
   "source": [
    "# Visualize"
   ]
  },
  {
   "cell_type": "code",
   "execution_count": null,
   "id": "45f3674e",
   "metadata": {},
   "outputs": [],
   "source": [
    "plt.imshow(results[0].plot())\n",
    "plt.axis(\"off\")\n",
    "plt.show()"
   ]
  }
 ],
 "metadata": {
  "kernelspec": {
   "display_name": "Python 3 (ipykernel)",
   "language": "python",
   "name": "python3"
  },
  "language_info": {
   "codemirror_mode": {
    "name": "ipython",
    "version": 3
   },
   "file_extension": ".py",
   "mimetype": "text/x-python",
   "name": "python",
   "nbconvert_exporter": "python",
   "pygments_lexer": "ipython3",
   "version": "3.11.4"
  },
  "toc": {
   "base_numbering": 1,
   "nav_menu": {},
   "number_sections": true,
   "sideBar": true,
   "skip_h1_title": false,
   "title_cell": "Table of Contents",
   "title_sidebar": "Contents",
   "toc_cell": false,
   "toc_position": {},
   "toc_section_display": true,
   "toc_window_display": false
  }
 },
 "nbformat": 4,
 "nbformat_minor": 5
}
